{
 "cells": [
  {
   "cell_type": "code",
   "execution_count": 15,
   "metadata": {},
   "outputs": [],
   "source": [
    "import numpy as np\n",
    "import matplotlib.pyplot as plt\n",
    "import os\n",
    "from scipy.io import wavfile\n",
    "\n",
    "DATADIRtrain = \"C:\\\\Users\\\\oriamu01\\\\Desktop\\\\TensorData\\\\SmallTrainSet\"\n",
    "DATADIRtest = \"C:\\\\Users\\\\oriamu01\\\\Desktop\\\\TensorData\\\\SmallTestSet\"\n",
    "CATEGORIES = [\"aula_carolina\", \"booth\"]"
   ]
  },
  {
   "cell_type": "code",
   "execution_count": 16,
   "metadata": {},
   "outputs": [],
   "source": [
    "training_data = []\n",
    "\n",
    "def create_training_data():\n",
    "    for category in CATEGORIES:\n",
    "        path = os.path.join(DATADIRtrain, category)\n",
    "        class_num = CATEGORIES.index(category)\n",
    "        for file in os.listdir(path):\n",
    "            try:\n",
    "                wavdata = wavfile.read(os.path.join(path,file))\n",
    "                trunc_wav = np.resize(wavdata[1],(4*44100,)) #only take the first 4 seconds of each wav\n",
    "                training_data.append([trunc_wav, class_num])\n",
    "            except Exception as e:\n",
    "                pass\n",
    "\n",
    "create_training_data()"
   ]
  },
  {
   "cell_type": "code",
   "execution_count": 17,
   "metadata": {},
   "outputs": [],
   "source": [
    "testing_data = []\n",
    "\n",
    "def create_testing_data():\n",
    "    for category in CATEGORIES:\n",
    "        path = os.path.join(DATADIRtest, category)\n",
    "        class_num = CATEGORIES.index(category)\n",
    "        for file in os.listdir(path):\n",
    "            try:\n",
    "                wavdata = wavfile.read(os.path.join(path,file))\n",
    "                trunc_wav = np.resize(wavdata[1],(4*44100,)) #only take the first 4 seconds of each wav\n",
    "                testing_data.append([trunc_wav, class_num])\n",
    "            except Exception as e:\n",
    "                pass\n",
    "\n",
    "create_testing_data()"
   ]
  },
  {
   "cell_type": "code",
   "execution_count": 18,
   "metadata": {},
   "outputs": [
    {
     "name": "stdout",
     "output_type": "stream",
     "text": [
      "745\n",
      "42\n"
     ]
    }
   ],
   "source": [
    "print(len(training_data))\n",
    "print(len(testing_data))"
   ]
  },
  {
   "cell_type": "code",
   "execution_count": 19,
   "metadata": {},
   "outputs": [],
   "source": [
    "import random\n",
    "\n",
    "random.shuffle(training_data)\n",
    "random.shuffle(testing_data)"
   ]
  },
  {
   "cell_type": "code",
   "execution_count": 20,
   "metadata": {},
   "outputs": [],
   "source": [
    "#for sample in training_data:\n",
    "    #print (sample[1])"
   ]
  },
  {
   "cell_type": "code",
   "execution_count": 21,
   "metadata": {},
   "outputs": [],
   "source": [
    "#training data\n",
    "Xtr = []\n",
    "ytr = []\n",
    "\n",
    "Xte = []\n",
    "yte = []\n"
   ]
  },
  {
   "cell_type": "code",
   "execution_count": 22,
   "metadata": {},
   "outputs": [],
   "source": [
    "for features, labels in training_data:\n",
    "        Xtr.append(features)\n",
    "        ytr.append(labels)"
   ]
  },
  {
   "cell_type": "code",
   "execution_count": 23,
   "metadata": {},
   "outputs": [],
   "source": [
    "for features, labels in testing_data:\n",
    "        Xte.append(features)\n",
    "        yte.append(labels)"
   ]
  },
  {
   "cell_type": "code",
   "execution_count": null,
   "metadata": {},
   "outputs": [],
   "source": []
  },
  {
   "cell_type": "code",
   "execution_count": null,
   "metadata": {},
   "outputs": [],
   "source": []
  },
  {
   "cell_type": "code",
   "execution_count": null,
   "metadata": {},
   "outputs": [],
   "source": []
  },
  {
   "cell_type": "code",
   "execution_count": null,
   "metadata": {},
   "outputs": [],
   "source": []
  },
  {
   "cell_type": "code",
   "execution_count": null,
   "metadata": {},
   "outputs": [],
   "source": []
  },
  {
   "cell_type": "code",
   "execution_count": null,
   "metadata": {},
   "outputs": [],
   "source": []
  }
 ],
 "metadata": {
  "kernelspec": {
   "display_name": "Python 3",
   "language": "python",
   "name": "python3"
  },
  "language_info": {
   "codemirror_mode": {
    "name": "ipython",
    "version": 3
   },
   "file_extension": ".py",
   "mimetype": "text/x-python",
   "name": "python",
   "nbconvert_exporter": "python",
   "pygments_lexer": "ipython3",
   "version": "3.7.4"
  }
 },
 "nbformat": 4,
 "nbformat_minor": 2
}
